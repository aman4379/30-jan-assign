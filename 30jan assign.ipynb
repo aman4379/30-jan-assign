{
 "cells": [
  {
   "cell_type": "code",
   "execution_count": null,
   "id": "d85fa93f-b1a5-4f1e-95e5-c507312aeef1",
   "metadata": {},
   "outputs": [],
   "source": [
    "Q.1 Write a program to accept percentage fromthe user and display the grade according to the following criteria"
   ]
  },
  {
   "cell_type": "code",
   "execution_count": 2,
   "id": "4e225d56-64a3-46a1-9e5c-785ea96bb9d0",
   "metadata": {},
   "outputs": [
    {
     "name": "stdin",
     "output_type": "stream",
     "text": [
      "Enter the percentage 32\n"
     ]
    },
    {
     "name": "stdout",
     "output_type": "stream",
     "text": [
      "D\n"
     ]
    }
   ],
   "source": [
    "percent = int(input('Enter the percentage'))\n",
    "if(percent>90):\n",
    "    print('A')\n",
    "elif(percent>80 and percent<=90):\n",
    "    print('B')\n",
    "elif(percent>=60 and percent <=80):\n",
    "    print('C')\n",
    "else:\n",
    "    print('D')"
   ]
  },
  {
   "cell_type": "code",
   "execution_count": null,
   "id": "85ec7c80-99c4-4c7a-8a36-f1c73c905f7a",
   "metadata": {},
   "outputs": [],
   "source": [
    "Q.2 Write a program to accept the cost price of a bike and display the road tax to be paid according to the \n",
    "    following criteria"
   ]
  },
  {
   "cell_type": "code",
   "execution_count": 3,
   "id": "232270ce-1e97-4e56-8886-c22ff924674e",
   "metadata": {},
   "outputs": [
    {
     "name": "stdin",
     "output_type": "stream",
     "text": [
      "Enter the price of bike!!! 78\n"
     ]
    },
    {
     "name": "stdout",
     "output_type": "stream",
     "text": [
      "Tax is 5%\n"
     ]
    }
   ],
   "source": [
    "price = int(input(\"Enter the price of bike!!!\"))\n",
    "if(price>100000):\n",
    "    print('tax is 15%')\n",
    "elif(price>50000 and price<=100000):\n",
    "    print('Tax is 10%')\n",
    "else:\n",
    "    print('Tax is 5%')"
   ]
  },
  {
   "cell_type": "code",
   "execution_count": null,
   "id": "b2a76cb3-3dbe-49de-959b-0211f1b674bb",
   "metadata": {},
   "outputs": [],
   "source": [
    "Q.3 Accept any city from the user and display monuments of that city"
   ]
  },
  {
   "cell_type": "code",
   "execution_count": 4,
   "id": "06ec0452-f7ae-4b1a-ba78-2950884ec7f0",
   "metadata": {},
   "outputs": [
    {
     "name": "stdin",
     "output_type": "stream",
     "text": [
      "Choose the city from Delhi, Agra and Jaipur:  Delhi\n"
     ]
    },
    {
     "name": "stdout",
     "output_type": "stream",
     "text": [
      "Red Fort\n"
     ]
    }
   ],
   "source": [
    "city = input('Choose the city from Delhi, Agra and Jaipur: ')\n",
    "if(city == 'Delhi'):\n",
    "    print('Red Fort')\n",
    "elif(city == 'Agra'):\n",
    "    print('Taj Mahal')\n",
    "elif(city  == 'Jaipur'):\n",
    "    print('Jal Mahal')\n",
    "else:\n",
    "    print('Either you print in wrong type or you print the wrong city!!!')"
   ]
  },
  {
   "cell_type": "code",
   "execution_count": null,
   "id": "b1665d7d-c519-4e98-b317-b8875d5a3f65",
   "metadata": {},
   "outputs": [],
   "source": [
    "Q.4 Check how many times a given number can be divided by 3before it is less than or equal tu 10"
   ]
  },
  {
   "cell_type": "code",
   "execution_count": 7,
   "id": "c4f4d0ae-6924-429d-81c6-362e611b4e89",
   "metadata": {},
   "outputs": [
    {
     "name": "stdin",
     "output_type": "stream",
     "text": [
      "Enter the number 9\n"
     ]
    },
    {
     "name": "stdout",
     "output_type": "stream",
     "text": [
      "0\n"
     ]
    }
   ],
   "source": [
    "num = int(input('Enter the number'))\n",
    "count = 0\n",
    "while(num>10):\n",
    "    num = num/3\n",
    "    count= count+1\n",
    "print(count)"
   ]
  },
  {
   "cell_type": "code",
   "execution_count": null,
   "id": "4a3c430a-b5a7-4360-9099-9812f425b238",
   "metadata": {},
   "outputs": [],
   "source": [
    "Q.5 Why and when to use while loop in python give a detailed discription with example"
   ]
  },
  {
   "cell_type": "code",
   "execution_count": null,
   "id": "7065d5dc-96ea-4de6-ac6d-716dbceafccc",
   "metadata": {},
   "outputs": [],
   "source": [
    "Ans We use while loop when we dont know how many times a loop will run. We only know a condition and the loop\n",
    "    will continue until that condition is satisfied.Like in the above qsn in which we dont know how many times\n",
    "    the loop will execute but only know onw conditionand when it will satisfy than only my loop will terminate."
   ]
  },
  {
   "cell_type": "code",
   "execution_count": null,
   "id": "a33c2e7a-7617-4904-956f-814d8eaecc70",
   "metadata": {},
   "outputs": [],
   "source": [
    "Q.6 Use nested while loop to print 3 different patterns"
   ]
  },
  {
   "cell_type": "code",
   "execution_count": 8,
   "id": "0412e9da-f659-4f76-a9e7-e3f9bad8ba81",
   "metadata": {},
   "outputs": [
    {
     "name": "stdin",
     "output_type": "stream",
     "text": [
      "Enter number of rows :  5\n"
     ]
    },
    {
     "name": "stdout",
     "output_type": "stream",
     "text": [
      "* \n",
      "* * \n",
      "* * * \n",
      "* * * * \n",
      "* * * * * \n"
     ]
    }
   ],
   "source": [
    "n = int(input('Enter number of rows : '))\n",
    " \n",
    "i = 1\n",
    "while i <= n :\n",
    "    j = 1\n",
    "    while j <= i:\n",
    "        print(\"*\", end = \" \")\n",
    "        j += 1\n",
    "    print()\n",
    "    i += 1"
   ]
  },
  {
   "cell_type": "code",
   "execution_count": 1,
   "id": "9bf5cb76-afeb-4ec8-b455-481ee4f25dbb",
   "metadata": {},
   "outputs": [
    {
     "name": "stdin",
     "output_type": "stream",
     "text": [
      "Enter number of rows :  5\n"
     ]
    },
    {
     "name": "stdout",
     "output_type": "stream",
     "text": [
      "* * * * * \n",
      "* * * * \n",
      "* * * \n",
      "* * \n",
      "* \n"
     ]
    }
   ],
   "source": [
    "n = int(input('Enter number of rows : '))\n",
    " \n",
    "i = 1\n",
    "while i <= n :\n",
    "    j = n\n",
    "    while j >= i:\n",
    "        print(\"*\", end = \" \")\n",
    "        j -= 1\n",
    "    print()\n",
    "    i += 1"
   ]
  },
  {
   "cell_type": "code",
   "execution_count": null,
   "id": "b61527c0-bcfc-4b35-b0d4-24b371afff35",
   "metadata": {},
   "outputs": [],
   "source": [
    "Q.7 Reverse a while loop to display numbers from 10 to 1"
   ]
  },
  {
   "cell_type": "code",
   "execution_count": 2,
   "id": "a89106b3-efa2-49de-9856-4aa1f6fe18c2",
   "metadata": {},
   "outputs": [
    {
     "name": "stdout",
     "output_type": "stream",
     "text": [
      "10  \n",
      "9  \n",
      "8  \n",
      "7  \n",
      "6  \n",
      "5  \n",
      "4  \n",
      "3  \n",
      "2  \n",
      "1  \n"
     ]
    }
   ],
   "source": [
    "n = 10\n",
    "while(n>0):\n",
    "    print(n,' ')\n",
    "    n=n-1"
   ]
  }
 ],
 "metadata": {
  "kernelspec": {
   "display_name": "Python 3 (ipykernel)",
   "language": "python",
   "name": "python3"
  },
  "language_info": {
   "codemirror_mode": {
    "name": "ipython",
    "version": 3
   },
   "file_extension": ".py",
   "mimetype": "text/x-python",
   "name": "python",
   "nbconvert_exporter": "python",
   "pygments_lexer": "ipython3",
   "version": "3.10.8"
  }
 },
 "nbformat": 4,
 "nbformat_minor": 5
}
